{
 "cells": [
  {
   "cell_type": "code",
   "execution_count": 1,
   "metadata": {},
   "outputs": [],
   "source": [
    "import numpy as np\n",
    "\n",
    "# Function to compute the rotation matrix and translation vector\n",
    "def compute_extrinsics(theta_deg, r):\n",
    "    theta_rad = np.deg2rad(theta_deg)\n",
    "    R = np.array([\n",
    "        [np.cos(theta_rad), 0, np.sin(theta_rad)],\n",
    "        [0, 1, 0],\n",
    "        [-np.sin(theta_rad), 0, np.cos(theta_rad)]\n",
    "    ])\n",
    "    t = np.array([\n",
    "        [r * np.cos(theta_rad)],\n",
    "        [0],\n",
    "        [r * np.sin(theta_rad)]\n",
    "    ])\n",
    "    return R, t\n",
    "\n",
    "\n",
    "# Function to combine rotation matrix and translation vector into a homogeneous extrinsic matrix\n",
    "def extrinsic_to_homogeneous(R, t):\n",
    "    homogeneous_matrix = np.eye(4)\n",
    "    homogeneous_matrix[:3, :3] = R\n",
    "    homogeneous_matrix[:3, 3] = t.flatten()\n",
    "    return homogeneous_matrix\n",
    "\n",
    "\n"
   ]
  },
  {
   "cell_type": "code",
   "execution_count": 2,
   "metadata": {},
   "outputs": [
    {
     "data": {
      "text/plain": [
       "[array([[ 1. ,  0. ,  0. ,  0.3],\n",
       "        [ 0. ,  1. ,  0. ,  0. ],\n",
       "        [-0. ,  0. ,  1. ,  0. ],\n",
       "        [ 0. ,  0. ,  0. ,  1. ]]),\n",
       " array([[ 0.80901699,  0.        ,  0.58778525,  0.2427051 ],\n",
       "        [ 0.        ,  1.        ,  0.        ,  0.        ],\n",
       "        [-0.58778525,  0.        ,  0.80901699,  0.17633558],\n",
       "        [ 0.        ,  0.        ,  0.        ,  1.        ]]),\n",
       " array([[ 0.30901699,  0.        ,  0.95105652,  0.0927051 ],\n",
       "        [ 0.        ,  1.        ,  0.        ,  0.        ],\n",
       "        [-0.95105652,  0.        ,  0.30901699,  0.28531695],\n",
       "        [ 0.        ,  0.        ,  0.        ,  1.        ]]),\n",
       " array([[-0.30901699,  0.        ,  0.95105652, -0.0927051 ],\n",
       "        [ 0.        ,  1.        ,  0.        ,  0.        ],\n",
       "        [-0.95105652,  0.        , -0.30901699,  0.28531695],\n",
       "        [ 0.        ,  0.        ,  0.        ,  1.        ]]),\n",
       " array([[-0.80901699,  0.        ,  0.58778525, -0.2427051 ],\n",
       "        [ 0.        ,  1.        ,  0.        ,  0.        ],\n",
       "        [-0.58778525,  0.        , -0.80901699,  0.17633558],\n",
       "        [ 0.        ,  0.        ,  0.        ,  1.        ]]),\n",
       " array([[-1.0000000e+00,  0.0000000e+00,  1.2246468e-16, -3.0000000e-01],\n",
       "        [ 0.0000000e+00,  1.0000000e+00,  0.0000000e+00,  0.0000000e+00],\n",
       "        [-1.2246468e-16,  0.0000000e+00, -1.0000000e+00,  3.6739404e-17],\n",
       "        [ 0.0000000e+00,  0.0000000e+00,  0.0000000e+00,  1.0000000e+00]]),\n",
       " array([[-0.80901699,  0.        , -0.58778525, -0.2427051 ],\n",
       "        [ 0.        ,  1.        ,  0.        ,  0.        ],\n",
       "        [ 0.58778525,  0.        , -0.80901699, -0.17633558],\n",
       "        [ 0.        ,  0.        ,  0.        ,  1.        ]]),\n",
       " array([[-0.30901699,  0.        , -0.95105652, -0.0927051 ],\n",
       "        [ 0.        ,  1.        ,  0.        ,  0.        ],\n",
       "        [ 0.95105652,  0.        , -0.30901699, -0.28531695],\n",
       "        [ 0.        ,  0.        ,  0.        ,  1.        ]]),\n",
       " array([[ 0.30901699,  0.        , -0.95105652,  0.0927051 ],\n",
       "        [ 0.        ,  1.        ,  0.        ,  0.        ],\n",
       "        [ 0.95105652,  0.        ,  0.30901699, -0.28531695],\n",
       "        [ 0.        ,  0.        ,  0.        ,  1.        ]]),\n",
       " array([[ 0.80901699,  0.        , -0.58778525,  0.2427051 ],\n",
       "        [ 0.        ,  1.        ,  0.        ,  0.        ],\n",
       "        [ 0.58778525,  0.        ,  0.80901699, -0.17633558],\n",
       "        [ 0.        ,  0.        ,  0.        ,  1.        ]])]"
      ]
     },
     "execution_count": 2,
     "metadata": {},
     "output_type": "execute_result"
    }
   ],
   "source": [
    "# Parameters\n",
    "num_cameras = 10\n",
    "angle_step = 360 / num_cameras  # Angle separation between cameras\n",
    "radius = 0.3  # Distance from the origin\n",
    "\n",
    "# Compute extrinsics for all cameras\n",
    "extrinsics = []\n",
    "for i in range(num_cameras):\n",
    "    theta = i * angle_step\n",
    "    R, t = compute_extrinsics(theta, radius)\n",
    "    extrinsics.append((R, t))\n",
    "    \n",
    "# Display the extrinsics\n",
    "#extrinsics\n",
    "\n",
    "# Compute homogeneous extrinsic matrices for all cameras\n",
    "homogeneous_extrinsics = [extrinsic_to_homogeneous(R, t) for R, t in extrinsics]\n",
    "\n",
    "# Display the homogeneous extrinsic matrices\n",
    "homogeneous_extrinsics\n",
    "\n"
   ]
  },
  {
   "cell_type": "code",
   "execution_count": 24,
   "metadata": {},
   "outputs": [],
   "source": [
    "#covert world coordinate to camera coordinate\n",
    "def world_to_camera_frame(P_batch, extrinsics):\n",
    "    # For each point in the batch, apply the transformation\n",
    "    transformed_batch = []\n",
    "    for P in P_batch:\n",
    "        transformed_points = []\n",
    "        for extrinsic in extrinsics:\n",
    "            # Convert P to homogeneous coordinates (x, y, z, 1)\n",
    "            P_homogeneous = np.hstack([P, 1])\n",
    "            # Apply transformation and extract the first 3 components\n",
    "            transformed_points.append(np.dot(extrinsic, P_homogeneous)[:3])\n",
    "        transformed_batch.append(transformed_points)\n",
    "    \n",
    "    return transformed_batch\n",
    "\n",
    "#convert camera coordinate to world coordinate\n",
    "def camera_to_world_frame(P, extrinsics):\n",
    "    return [np.dot(np.linalg.inv(extrinsic), P) for extrinsic in extrinsics]"
   ]
  },
  {
   "cell_type": "code",
   "execution_count": 26,
   "metadata": {},
   "outputs": [
    {
     "name": "stdout",
     "output_type": "stream",
     "text": [
      "[[array([  6.9796875, -71.9921875, -62.34375  ]), 38.7, 7.421875, 1.8, 0]]\n"
     ]
    }
   ],
   "source": [
    "bbox_cam3D = [[6.6796875, -71.9921875, -62.34375, 38.7, 7.421875, 1.8, 0]]\n",
    "#convert to camera coordinate\n",
    "bbox_cam3D[0][:3] = world_to_camera_frame(np.array([bbox_cam3D[0][:3]]), homogeneous_extrinsics[:1])[0]\n",
    "print(bbox_cam3D)"
   ]
  },
  {
   "cell_type": "code",
   "execution_count": 21,
   "metadata": {},
   "outputs": [
    {
     "name": "stdout",
     "output_type": "stream",
     "text": [
      "[array([[ 1. ,  0. ,  0. ,  0.3],\n",
      "       [ 0. ,  1. ,  0. ,  0. ],\n",
      "       [-0. ,  0. ,  1. ,  0. ],\n",
      "       [ 0. ,  0. ,  0. ,  1. ]])]\n"
     ]
    }
   ],
   "source": [
    "print(homogeneous_extrinsics[:1])"
   ]
  },
  {
   "cell_type": "code",
   "execution_count": 31,
   "metadata": {},
   "outputs": [],
   "source": [
    "gt_bboxes_3d = [[  7.0546875 ,  25.8671875 , 109.34765625, -48.  ,         4.11523438,\n",
    "    3.    ,       0.        ],\n",
    " [  4.11523438 , -7.0546875 , 106.99609375 , 78.     ,      4.11523438,\n",
    "    3.       ,    0.        ],\n",
    " [  5.87890625, -41.74023438, -54.0859375,   -6.   ,        7.0546875,\n",
    "    3.    ,       0.        ],\n",
    " [  5.87890625, -41.74023438, -54.0859375 ,  -6.     ,      7.0546875,\n",
    "    3.    ,       0.        ],\n",
    " [  7.0546875 ,  25.8671875 , 109.34765625, -48.    ,       4.703125,\n",
    "    3.     ,      0.        ],\n",
    " [  5.29101562,  -7.64257812, 106.99609375,  78.    ,       4.11523438,\n",
    "    3.     ,      0.        ],\n",
    " [  4.11523438 , -7.0546875 , 107.58398438 , 75.    ,       2.93945312,\n",
    "    3.   ,        0.        ],\n",
    " [  5.29101562 ,-41.15234375, -54.0859375,   -6.      ,     6.46679688,\n",
    "    3.  ,         0.        ],\n",
    " [  7.64257812 , 25.27929688, 108.75976562, -48.   ,        5.29101562,\n",
    "    3.   ,        0.        ],\n",
    " [  4.703125 ,   -7.64257812, 106.40820312 , 78.    ,       5.29101562,\n",
    "    3.    ,       0.        ]]"
   ]
  },
  {
   "cell_type": "code",
   "execution_count": 32,
   "metadata": {},
   "outputs": [],
   "source": [
    "# Extract the first three coordinates of each bounding box\n",
    "gt_bboxes_3d_coords = np.array([bbox[:3] for bbox in gt_bboxes_3d])\n",
    "\n",
    "# Convert to camera coordinates\n",
    "gt_bboxes_3d_coords_cam = world_to_camera_frame(gt_bboxes_3d_coords, homogeneous_extrinsics[:1])\n",
    "\n",
    "# Update the original bounding boxes with the transformed coordinates\n",
    "for i in range(len(gt_bboxes_3d)):\n",
    "\tgt_bboxes_3d[i][:3] = gt_bboxes_3d_coords_cam[i][0]"
   ]
  },
  {
   "cell_type": "code",
   "execution_count": 33,
   "metadata": {},
   "outputs": [
    {
     "name": "stdout",
     "output_type": "stream",
     "text": [
      "[[7.3546875, 25.8671875, 109.34765625, -48.0, 4.11523438, 3.0, 0.0], [4.41523438, -7.0546875, 106.99609375, 78.0, 4.11523438, 3.0, 0.0], [6.17890625, -41.74023438, -54.0859375, -6.0, 7.0546875, 3.0, 0.0], [6.17890625, -41.74023438, -54.0859375, -6.0, 7.0546875, 3.0, 0.0], [7.3546875, 25.8671875, 109.34765625, -48.0, 4.703125, 3.0, 0.0], [5.591015619999999, -7.64257812, 106.99609375, 78.0, 4.11523438, 3.0, 0.0], [4.41523438, -7.0546875, 107.58398438, 75.0, 2.93945312, 3.0, 0.0], [5.591015619999999, -41.15234375, -54.0859375, -6.0, 6.46679688, 3.0, 0.0], [7.942578119999999, 25.27929688, 108.75976562, -48.0, 5.29101562, 3.0, 0.0], [5.003125, -7.64257812, 106.40820312, 78.0, 5.29101562, 3.0, 0.0]]\n"
     ]
    }
   ],
   "source": [
    "print(gt_bboxes_3d)"
   ]
  }
 ],
 "metadata": {
  "kernelspec": {
   "display_name": "MV2Denv",
   "language": "python",
   "name": "python3"
  },
  "language_info": {
   "codemirror_mode": {
    "name": "ipython",
    "version": 3
   },
   "file_extension": ".py",
   "mimetype": "text/x-python",
   "name": "python",
   "nbconvert_exporter": "python",
   "pygments_lexer": "ipython3",
   "version": "3.8.20"
  }
 },
 "nbformat": 4,
 "nbformat_minor": 2
}
