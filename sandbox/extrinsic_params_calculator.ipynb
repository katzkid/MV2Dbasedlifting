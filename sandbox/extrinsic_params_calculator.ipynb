{
 "cells": [
  {
   "cell_type": "code",
   "execution_count": 1,
   "metadata": {},
   "outputs": [],
   "source": [
    "import numpy as np\n",
    "\n",
    "# Function to compute the rotation matrix and translation vector\n",
    "def compute_extrinsics(theta_deg, r):\n",
    "    theta_rad = np.deg2rad(theta_deg)\n",
    "    R = np.array([\n",
    "        [np.cos(theta_rad), 0, np.sin(theta_rad)],\n",
    "        [0, 1, 0],\n",
    "        [-np.sin(theta_rad), 0, np.cos(theta_rad)]\n",
    "    ])\n",
    "    t = np.array([\n",
    "        [r * np.cos(theta_rad)],\n",
    "        [0],\n",
    "        [r * np.sin(theta_rad)]\n",
    "    ])\n",
    "    return R, t\n",
    "\n",
    "\n",
    "# Function to combine rotation matrix and translation vector into a homogeneous extrinsic matrix\n",
    "def extrinsic_to_homogeneous(R, t):\n",
    "    homogeneous_matrix = np.eye(4)\n",
    "    homogeneous_matrix[:3, :3] = R\n",
    "    homogeneous_matrix[:3, 3] = t.flatten()\n",
    "    return homogeneous_matrix\n",
    "\n",
    "\n"
   ]
  },
  {
   "cell_type": "code",
   "execution_count": 2,
   "metadata": {},
   "outputs": [
    {
     "data": {
      "text/plain": [
       "[array([[ 1.,  0.,  0.,  1.],\n",
       "        [ 0.,  1.,  0.,  0.],\n",
       "        [-0.,  0.,  1.,  0.],\n",
       "        [ 0.,  0.,  0.,  1.]]),\n",
       " array([[ 0.80901699,  0.        ,  0.58778525,  0.80901699],\n",
       "        [ 0.        ,  1.        ,  0.        ,  0.        ],\n",
       "        [-0.58778525,  0.        ,  0.80901699,  0.58778525],\n",
       "        [ 0.        ,  0.        ,  0.        ,  1.        ]]),\n",
       " array([[ 0.30901699,  0.        ,  0.95105652,  0.30901699],\n",
       "        [ 0.        ,  1.        ,  0.        ,  0.        ],\n",
       "        [-0.95105652,  0.        ,  0.30901699,  0.95105652],\n",
       "        [ 0.        ,  0.        ,  0.        ,  1.        ]]),\n",
       " array([[-0.30901699,  0.        ,  0.95105652, -0.30901699],\n",
       "        [ 0.        ,  1.        ,  0.        ,  0.        ],\n",
       "        [-0.95105652,  0.        , -0.30901699,  0.95105652],\n",
       "        [ 0.        ,  0.        ,  0.        ,  1.        ]]),\n",
       " array([[-0.80901699,  0.        ,  0.58778525, -0.80901699],\n",
       "        [ 0.        ,  1.        ,  0.        ,  0.        ],\n",
       "        [-0.58778525,  0.        , -0.80901699,  0.58778525],\n",
       "        [ 0.        ,  0.        ,  0.        ,  1.        ]]),\n",
       " array([[-1.0000000e+00,  0.0000000e+00,  1.2246468e-16, -1.0000000e+00],\n",
       "        [ 0.0000000e+00,  1.0000000e+00,  0.0000000e+00,  0.0000000e+00],\n",
       "        [-1.2246468e-16,  0.0000000e+00, -1.0000000e+00,  1.2246468e-16],\n",
       "        [ 0.0000000e+00,  0.0000000e+00,  0.0000000e+00,  1.0000000e+00]]),\n",
       " array([[-0.80901699,  0.        , -0.58778525, -0.80901699],\n",
       "        [ 0.        ,  1.        ,  0.        ,  0.        ],\n",
       "        [ 0.58778525,  0.        , -0.80901699, -0.58778525],\n",
       "        [ 0.        ,  0.        ,  0.        ,  1.        ]]),\n",
       " array([[-0.30901699,  0.        , -0.95105652, -0.30901699],\n",
       "        [ 0.        ,  1.        ,  0.        ,  0.        ],\n",
       "        [ 0.95105652,  0.        , -0.30901699, -0.95105652],\n",
       "        [ 0.        ,  0.        ,  0.        ,  1.        ]]),\n",
       " array([[ 0.30901699,  0.        , -0.95105652,  0.30901699],\n",
       "        [ 0.        ,  1.        ,  0.        ,  0.        ],\n",
       "        [ 0.95105652,  0.        ,  0.30901699, -0.95105652],\n",
       "        [ 0.        ,  0.        ,  0.        ,  1.        ]]),\n",
       " array([[ 0.80901699,  0.        , -0.58778525,  0.80901699],\n",
       "        [ 0.        ,  1.        ,  0.        ,  0.        ],\n",
       "        [ 0.58778525,  0.        ,  0.80901699, -0.58778525],\n",
       "        [ 0.        ,  0.        ,  0.        ,  1.        ]])]"
      ]
     },
     "execution_count": 2,
     "metadata": {},
     "output_type": "execute_result"
    }
   ],
   "source": [
    "# Parameters\n",
    "num_cameras = 10\n",
    "angle_step = 360 / num_cameras  # Angle separation between cameras\n",
    "radius = 1  # Distance from the origin\n",
    "\n",
    "# Compute extrinsics for all cameras\n",
    "extrinsics = []\n",
    "for i in range(num_cameras):\n",
    "    theta = i * angle_step\n",
    "    R, t = compute_extrinsics(theta, radius)\n",
    "    extrinsics.append((R, t))\n",
    "    \n",
    "# Display the extrinsics\n",
    "#extrinsics\n",
    "\n",
    "# Compute homogeneous extrinsic matrices for all cameras\n",
    "homogeneous_extrinsics = [extrinsic_to_homogeneous(R, t) for R, t in extrinsics]\n",
    "\n",
    "# Display the homogeneous extrinsic matrices\n",
    "homogeneous_extrinsics\n",
    "\n"
   ]
  }
 ],
 "metadata": {
  "kernelspec": {
   "display_name": "MV2Denv",
   "language": "python",
   "name": "python3"
  },
  "language_info": {
   "codemirror_mode": {
    "name": "ipython",
    "version": 3
   },
   "file_extension": ".py",
   "mimetype": "text/x-python",
   "name": "python",
   "nbconvert_exporter": "python",
   "pygments_lexer": "ipython3",
   "version": "3.8.20"
  }
 },
 "nbformat": 4,
 "nbformat_minor": 2
}
