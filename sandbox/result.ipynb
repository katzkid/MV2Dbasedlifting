{
 "cells": [
  {
   "cell_type": "code",
   "execution_count": 5,
   "metadata": {},
   "outputs": [
    {
     "name": "stdout",
     "output_type": "stream",
     "text": [
      "len output: 159\n"
     ]
    }
   ],
   "source": [
    "import pickle\n",
    "\n",
    "with open(\"../test_result/outputs.pkl\", \"rb\") as file:\n",
    "    output = pickle.load(file)\n",
    "\n",
    "print(f\"len output: {len(output)}\")"
   ]
  },
  {
   "cell_type": "code",
   "execution_count": 6,
   "metadata": {},
   "outputs": [
    {
     "data": {
      "text/plain": [
       "{'pts_bbox': {'boxes_3d': CameraInstance3DBoxes(\n",
       "      tensor([[-51.2000, -51.1862,  -0.1101,  13.9290,  14.1272,   6.2196,  -0.0697]])),\n",
       "  'scores_3d': tensor([0.0004]),\n",
       "  'labels_3d': tensor([0])}}"
      ]
     },
     "execution_count": 6,
     "metadata": {},
     "output_type": "execute_result"
    }
   ],
   "source": [
    "output[0]"
   ]
  }
 ],
 "metadata": {
  "kernelspec": {
   "display_name": "MV2Denv",
   "language": "python",
   "name": "python3"
  },
  "language_info": {
   "codemirror_mode": {
    "name": "ipython",
    "version": 3
   },
   "file_extension": ".py",
   "mimetype": "text/x-python",
   "name": "python",
   "nbconvert_exporter": "python",
   "pygments_lexer": "ipython3",
   "version": "3.8.20"
  }
 },
 "nbformat": 4,
 "nbformat_minor": 2
}
