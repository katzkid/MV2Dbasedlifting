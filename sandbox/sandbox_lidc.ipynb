{
 "cells": [
  {
   "cell_type": "code",
   "execution_count": 1,
   "metadata": {},
   "outputs": [
    {
     "name": "stdout",
     "output_type": "stream",
     "text": [
      "LIDC-IDRI-0078\n",
      "Feature              Meaning                    # \n",
      "-                    -                          - \n",
      "Subtlety           | Obvious                  | 5 \n",
      "Internalstructure  | Soft Tissue              | 1 \n",
      "Calcification      | Absent                   | 6 \n",
      "Sphericity         | Ovoid                    | 3 \n",
      "Margin             | Near Sharp               | 4 \n",
      "Lobulation         | No Lobulation            | 1 \n",
      "Spiculation        | No Spiculation           | 1 \n",
      "Texture            | Solid                    | 5 \n",
      "Malignancy         | Indeterminate            | 3 \n"
     ]
    }
   ],
   "source": [
    "import pylidc as pl\n",
    "import matplotlib.pyplot as plt\n",
    "\n",
    "ann = pl.query(pl.Annotation).first()\n",
    "print(ann.scan.patient_id)\n",
    "ann.print_formatted_feature_table()"
   ]
  },
  {
   "cell_type": "code",
   "execution_count": 2,
   "metadata": {},
   "outputs": [
    {
     "name": "stdout",
     "output_type": "stream",
     "text": [
      "91\n"
     ]
    }
   ],
   "source": [
    "anns = pl.query(pl.Annotation).filter(pl.Annotation.spiculation == 5,\n",
    "                                      pl.Annotation.malignancy == 5)\n",
    "print(anns.count())"
   ]
  },
  {
   "cell_type": "code",
   "execution_count": 3,
   "metadata": {},
   "outputs": [
    {
     "name": "stdout",
     "output_type": "stream",
     "text": [
      "(slice(340, 390, None), slice(297, 338, None), slice(86, 94, None))\n"
     ]
    }
   ],
   "source": [
    "pid = 'LIDC-IDRI-0001'\n",
    "scan = pl.query(pl.Scan).filter(pl.Scan.patient_id == pid).first()\n",
    "scan\n",
    "ann = pl.query(pl.Annotation).filter(pl.Annotation.scan == scan).first()\n",
    "bbox = ann.bbox()\n",
    "print(bbox)"
   ]
  }
 ],
 "metadata": {
  "kernelspec": {
   "display_name": "MV2Denv",
   "language": "python",
   "name": "python3"
  },
  "language_info": {
   "codemirror_mode": {
    "name": "ipython",
    "version": 3
   },
   "file_extension": ".py",
   "mimetype": "text/x-python",
   "name": "python",
   "nbconvert_exporter": "python",
   "pygments_lexer": "ipython3",
   "version": "3.8.20"
  }
 },
 "nbformat": 4,
 "nbformat_minor": 2
}
