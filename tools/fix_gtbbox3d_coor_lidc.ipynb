{
 "cells": [
  {
   "cell_type": "code",
   "execution_count": 42,
   "metadata": {},
   "outputs": [],
   "source": [
    "#\n",
    "# Correct the coordinate of gt_bbox3d in lidc_infos_{train/val}.pkl\n",
    "# REMARK: please back up the original .pkl files before process\n",
    "#\n",
    "\n",
    "\n",
    "import pickle\n",
    "\n",
    "\n",
    "for ds in [\"train\", \"val\"]:\n",
    "    file_path = f\"../data/lidc/lidc_infos_{ds}.pkl\"\n",
    "\n",
    "    with open(file_path, \"rb\") as file:\n",
    "        lidc_infos = pickle.load(file)\n",
    "\n",
    "    for record in lidc_infos[\"infos\"]:\n",
    "        old_bbox = record[\"gt_boxes\"]\n",
    "        new_bbox = old_bbox[:, [1, 2, 3, 0, 4, 5]]\n",
    "        record[\"gt_boxes\"] = new_bbox\n",
    "\n",
    "    # Save file\n",
    "    with open(file_path, \"wb\") as file:\n",
    "        pickle.dump(lidc_infos, file)"
   ]
  }
 ],
 "metadata": {
  "kernelspec": {
   "display_name": "MV2Denv",
   "language": "python",
   "name": "python3"
  },
  "language_info": {
   "codemirror_mode": {
    "name": "ipython",
    "version": 3
   },
   "file_extension": ".py",
   "mimetype": "text/x-python",
   "name": "python",
   "nbconvert_exporter": "python",
   "pygments_lexer": "ipython3",
   "version": "3.8.20"
  }
 },
 "nbformat": 4,
 "nbformat_minor": 2
}
