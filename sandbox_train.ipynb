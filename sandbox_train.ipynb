{
 "cells": [
  {
   "cell_type": "code",
   "execution_count": 1,
   "metadata": {},
   "outputs": [],
   "source": [
    "import argparse\n",
    "import copy\n",
    "import os\n",
    "import time\n",
    "import warnings\n",
    "from os import path as osp\n",
    "\n",
    "import mmcv\n",
    "import torch\n",
    "import torch.distributed as dist\n",
    "from mmcv import Config, DictAction\n",
    "from mmcv.runner import get_dist_info, init_dist\n",
    "\n",
    "import mmdet3d_plugin.models.detectors\n",
    "from mmdet import __version__ as mmdet_version\n",
    "from mmdet3d import __version__ as mmdet3d_version\n",
    "from mmdet3d.apis import init_random_seed, train_model\n",
    "from mmdet3d.datasets import build_dataset\n",
    "from mmdet3d.models import build_model\n",
    "from mmdet3d.utils import collect_env, get_root_logger\n",
    "from mmdet.apis import set_random_seed\n",
    "from mmseg import __version__ as mmseg_version"
   ]
  },
  {
   "cell_type": "code",
   "execution_count": 2,
   "metadata": {},
   "outputs": [],
   "source": [
    "class Args(argparse.Namespace):\n",
    "    auto_resume=False,\n",
    "    autoscale_lr=False,\n",
    "    cfg_options=None,\n",
    "    config=\"configs/mv2d/exp/mv2d_r50_frcnn_two_frames_1408x512_ep24.py\",\n",
    "    deterministic=False,\n",
    "    diff_seed=False,\n",
    "    gpu_id=0,\n",
    "    gpu_ids=None,\n",
    "    gpus=None,\n",
    "    launcher=\"none\",\n",
    "    local_rank=0,\n",
    "    no_validate=False,\n",
    "    options=None,\n",
    "    resume_from=None,\n",
    "    seed=0,\n",
    "    work_dir=None\n",
    "\n",
    "args = Args()"
   ]
  },
  {
   "cell_type": "code",
   "execution_count": null,
   "metadata": {},
   "outputs": [
    {
     "data": {
      "text/plain": [
       "('configs/mv2d/exp/mv2d_r50_frcnn_two_frames_1408x512_ep24.py',)"
      ]
     },
     "execution_count": 4,
     "metadata": {},
     "output_type": "execute_result"
    }
   ],
   "source": []
  },
  {
   "cell_type": "code",
   "execution_count": 3,
   "metadata": {},
   "outputs": [
    {
     "ename": "TypeError",
     "evalue": "expected str, bytes or os.PathLike object, not tuple",
     "output_type": "error",
     "traceback": [
      "\u001b[0;31m---------------------------------------------------------------------------\u001b[0m",
      "\u001b[0;31mTypeError\u001b[0m                                 Traceback (most recent call last)",
      "Cell \u001b[0;32mIn[3], line 1\u001b[0m\n\u001b[0;32m----> 1\u001b[0m cfg \u001b[38;5;241m=\u001b[39m \u001b[43mConfig\u001b[49m\u001b[38;5;241;43m.\u001b[39;49m\u001b[43mfromfile\u001b[49m\u001b[43m(\u001b[49m\u001b[43margs\u001b[49m\u001b[38;5;241;43m.\u001b[39;49m\u001b[43mconfig\u001b[49m\u001b[43m)\u001b[49m\n\u001b[1;32m      2\u001b[0m \u001b[38;5;28;01mif\u001b[39;00m args\u001b[38;5;241m.\u001b[39mcfg_options \u001b[38;5;129;01mis\u001b[39;00m \u001b[38;5;129;01mnot\u001b[39;00m \u001b[38;5;28;01mNone\u001b[39;00m:\n\u001b[1;32m      3\u001b[0m     cfg\u001b[38;5;241m.\u001b[39mmerge_from_dict(args\u001b[38;5;241m.\u001b[39mcfg_options)\n",
      "File \u001b[0;32m~/anaconda3/envs/MV2Denv/lib/python3.8/site-packages/mmcv/utils/config.py:340\u001b[0m, in \u001b[0;36mConfig.fromfile\u001b[0;34m(filename, use_predefined_variables, import_custom_modules)\u001b[0m\n\u001b[1;32m    338\u001b[0m \u001b[38;5;28;01mif\u001b[39;00m \u001b[38;5;28misinstance\u001b[39m(filename, Path):\n\u001b[1;32m    339\u001b[0m     filename \u001b[38;5;241m=\u001b[39m \u001b[38;5;28mstr\u001b[39m(filename)\n\u001b[0;32m--> 340\u001b[0m cfg_dict, cfg_text \u001b[38;5;241m=\u001b[39m \u001b[43mConfig\u001b[49m\u001b[38;5;241;43m.\u001b[39;49m\u001b[43m_file2dict\u001b[49m\u001b[43m(\u001b[49m\u001b[43mfilename\u001b[49m\u001b[43m,\u001b[49m\n\u001b[1;32m    341\u001b[0m \u001b[43m                                       \u001b[49m\u001b[43muse_predefined_variables\u001b[49m\u001b[43m)\u001b[49m\n\u001b[1;32m    342\u001b[0m \u001b[38;5;28;01mif\u001b[39;00m import_custom_modules \u001b[38;5;129;01mand\u001b[39;00m cfg_dict\u001b[38;5;241m.\u001b[39mget(\u001b[38;5;124m'\u001b[39m\u001b[38;5;124mcustom_imports\u001b[39m\u001b[38;5;124m'\u001b[39m, \u001b[38;5;28;01mNone\u001b[39;00m):\n\u001b[1;32m    343\u001b[0m     import_modules_from_strings(\u001b[38;5;241m*\u001b[39m\u001b[38;5;241m*\u001b[39mcfg_dict[\u001b[38;5;124m'\u001b[39m\u001b[38;5;124mcustom_imports\u001b[39m\u001b[38;5;124m'\u001b[39m])\n",
      "File \u001b[0;32m~/anaconda3/envs/MV2Denv/lib/python3.8/site-packages/mmcv/utils/config.py:182\u001b[0m, in \u001b[0;36mConfig._file2dict\u001b[0;34m(filename, use_predefined_variables)\u001b[0m\n\u001b[1;32m    180\u001b[0m \u001b[38;5;129m@staticmethod\u001b[39m\n\u001b[1;32m    181\u001b[0m \u001b[38;5;28;01mdef\u001b[39;00m \u001b[38;5;21m_file2dict\u001b[39m(filename, use_predefined_variables\u001b[38;5;241m=\u001b[39m\u001b[38;5;28;01mTrue\u001b[39;00m):\n\u001b[0;32m--> 182\u001b[0m     filename \u001b[38;5;241m=\u001b[39m osp\u001b[38;5;241m.\u001b[39mabspath(\u001b[43mosp\u001b[49m\u001b[38;5;241;43m.\u001b[39;49m\u001b[43mexpanduser\u001b[49m\u001b[43m(\u001b[49m\u001b[43mfilename\u001b[49m\u001b[43m)\u001b[49m)\n\u001b[1;32m    183\u001b[0m     check_file_exist(filename)\n\u001b[1;32m    184\u001b[0m     fileExtname \u001b[38;5;241m=\u001b[39m osp\u001b[38;5;241m.\u001b[39msplitext(filename)[\u001b[38;5;241m1\u001b[39m]\n",
      "File \u001b[0;32m~/anaconda3/envs/MV2Denv/lib/python3.8/posixpath.py:231\u001b[0m, in \u001b[0;36mexpanduser\u001b[0;34m(path)\u001b[0m\n\u001b[1;32m    228\u001b[0m \u001b[38;5;28;01mdef\u001b[39;00m \u001b[38;5;21mexpanduser\u001b[39m(path):\n\u001b[1;32m    229\u001b[0m \u001b[38;5;250m    \u001b[39m\u001b[38;5;124;03m\"\"\"Expand ~ and ~user constructions.  If user or $HOME is unknown,\u001b[39;00m\n\u001b[1;32m    230\u001b[0m \u001b[38;5;124;03m    do nothing.\"\"\"\u001b[39;00m\n\u001b[0;32m--> 231\u001b[0m     path \u001b[38;5;241m=\u001b[39m \u001b[43mos\u001b[49m\u001b[38;5;241;43m.\u001b[39;49m\u001b[43mfspath\u001b[49m\u001b[43m(\u001b[49m\u001b[43mpath\u001b[49m\u001b[43m)\u001b[49m\n\u001b[1;32m    232\u001b[0m     \u001b[38;5;28;01mif\u001b[39;00m \u001b[38;5;28misinstance\u001b[39m(path, \u001b[38;5;28mbytes\u001b[39m):\n\u001b[1;32m    233\u001b[0m         tilde \u001b[38;5;241m=\u001b[39m \u001b[38;5;124mb\u001b[39m\u001b[38;5;124m'\u001b[39m\u001b[38;5;124m~\u001b[39m\u001b[38;5;124m'\u001b[39m\n",
      "\u001b[0;31mTypeError\u001b[0m: expected str, bytes or os.PathLike object, not tuple"
     ]
    }
   ],
   "source": [
    "cfg = Config.fromfile(args.config)\n",
    "if args.cfg_options is not None:\n",
    "    cfg.merge_from_dict(args.cfg_options)\n",
    "\n",
    "# # set multi-process settings\n",
    "# setup_multi_processes(cfg)\n",
    "\n",
    "# import modules from plguin/xx, registry will be updated\n",
    "if cfg.get('plugin_dir', None):\n",
    "    import importlib\n",
    "    plugin_dir = cfg.plugin_dir\n",
    "    _module_dir = os.path.dirname(plugin_dir)\n",
    "    _module_dir = _module_dir.split('/')\n",
    "    _module_path = _module_dir[0]\n",
    "\n",
    "    for m in _module_dir[1:]:\n",
    "        _module_path = _module_path + '.' + m\n",
    "    plg_lib = importlib.import_module(_module_path)\n",
    "\n",
    "# set cudnn_benchmark\n",
    "if cfg.get('cudnn_benchmark', False):\n",
    "    torch.backends.cudnn.benchmark = True\n",
    "\n",
    "# work_dir is determined in this priority: CLI > segment in file > filename\n",
    "if args.work_dir is not None:\n",
    "    # update configs according to CLI args if args.work_dir is not None\n",
    "    cfg.work_dir = args.work_dir\n",
    "elif cfg.get('work_dir', None) is None:\n",
    "    # use config filename as default work_dir if cfg.work_dir is None\n",
    "    cfg.work_dir = osp.join('./work_dirs',\n",
    "                            osp.splitext(osp.basename(args.config))[0])\n",
    "if args.resume_from is not None:\n",
    "    cfg.resume_from = args.resume_from\n",
    "\n",
    "if args.auto_resume:\n",
    "    cfg.auto_resume = args.auto_resume\n",
    "    warnings.warn('`--auto-resume` is only supported when mmdet'\n",
    "                    'version >= 2.20.0 for 3D detection model or'\n",
    "                    'mmsegmentation verision >= 0.21.0 for 3D'\n",
    "                    'segmentation model')\n",
    "\n",
    "if args.gpus is not None:\n",
    "    cfg.gpu_ids = range(1)\n",
    "    warnings.warn('`--gpus` is deprecated because we only support '\n",
    "                    'single GPU mode in non-distributed training. '\n",
    "                    'Use `gpus=1` now.')\n",
    "if args.gpu_ids is not None:\n",
    "    cfg.gpu_ids = args.gpu_ids[0:1]\n",
    "    warnings.warn('`--gpu-ids` is deprecated, please use `--gpu-id`. '\n",
    "                    'Because we only support single GPU mode in '\n",
    "                    'non-distributed training. Use the first GPU '\n",
    "                    'in `gpu_ids` now.')\n",
    "if args.gpus is None and args.gpu_ids is None:\n",
    "    cfg.gpu_ids = [args.gpu_id]\n",
    "\n",
    "if args.autoscale_lr:\n",
    "    # apply the linear scaling rule (https://arxiv.org/abs/1706.02677)\n",
    "    cfg.optimizer['lr'] = cfg.optimizer['lr'] * len(cfg.gpu_ids) / 8\n",
    "\n",
    "# init distributed env first, since logger depends on the dist info.\n",
    "if args.launcher == 'none':\n",
    "    distributed = False\n",
    "else:\n",
    "    distributed = True\n",
    "    init_dist(args.launcher, **cfg.dist_params)\n",
    "    # re-set gpu_ids with distributed training mode\n",
    "    _, world_size = get_dist_info()\n",
    "    cfg.gpu_ids = range(world_size)"
   ]
  }
 ],
 "metadata": {
  "kernelspec": {
   "display_name": "MV2Denv",
   "language": "python",
   "name": "python3"
  },
  "language_info": {
   "codemirror_mode": {
    "name": "ipython",
    "version": 3
   },
   "file_extension": ".py",
   "mimetype": "text/x-python",
   "name": "python",
   "nbconvert_exporter": "python",
   "pygments_lexer": "ipython3",
   "version": "3.8.20"
  }
 },
 "nbformat": 4,
 "nbformat_minor": 2
}
