{
 "cells": [
  {
   "cell_type": "code",
   "execution_count": 3,
   "metadata": {},
   "outputs": [],
   "source": [
    "import argparse\n",
    "import copy\n",
    "import os\n",
    "import time\n",
    "import warnings\n",
    "from os import path as osp\n",
    "\n",
    "import mmcv\n",
    "import torch\n",
    "import torch.distributed as dist\n",
    "from mmcv import Config, DictAction\n",
    "from mmcv.runner import get_dist_info, init_dist\n",
    "\n",
    "import mmdet3d_plugin.models.detectors\n",
    "from mmdet import __version__ as mmdet_version\n",
    "from mmdet3d import __version__ as mmdet3d_version\n",
    "from mmdet3d.apis import init_random_seed, train_model\n",
    "from mmdet3d.datasets import build_dataset\n",
    "from mmdet3d.models import build_model\n",
    "from mmdet3d.utils import collect_env, get_root_logger\n",
    "from mmdet.apis import set_random_seed\n",
    "from mmseg import __version__ as mmseg_version"
   ]
  },
  {
   "cell_type": "code",
   "execution_count": 7,
   "metadata": {},
   "outputs": [],
   "source": [
    "class Args(argparse.Namespace):\n",
    "    auto_resume=False\n",
    "    autoscale_lr=False\n",
    "    cfg_options=None\n",
    "    config=\"configs/mv2d/exp/mv2d_r50_frcnn_two_frames_1408x512_ep24.py\"\n",
    "    deterministic=False\n",
    "    diff_seed=False\n",
    "    gpu_id=0\n",
    "    gpu_ids=None\n",
    "    gpus=None\n",
    "    launcher=\"none\"\n",
    "    local_rank=0\n",
    "    no_validate=False\n",
    "    options=None\n",
    "    resume_from=None\n",
    "    seed=0\n",
    "    work_dir=None\n",
    "\n",
    "args = Args()"
   ]
  },
  {
   "cell_type": "code",
   "execution_count": 8,
   "metadata": {},
   "outputs": [
    {
     "data": {
      "text/plain": [
       "'configs/mv2d/exp/mv2d_r50_frcnn_two_frames_1408x512_ep24.py'"
      ]
     },
     "execution_count": 8,
     "metadata": {},
     "output_type": "execute_result"
    }
   ],
   "source": [
    "args.config"
   ]
  },
  {
   "cell_type": "code",
   "execution_count": 9,
   "metadata": {},
   "outputs": [],
   "source": [
    "cfg = Config.fromfile(args.config)\n",
    "if args.cfg_options is not None:\n",
    "    cfg.merge_from_dict(args.cfg_options)\n",
    "\n",
    "# # set multi-process settings\n",
    "# setup_multi_processes(cfg)\n",
    "\n",
    "# import modules from plguin/xx, registry will be updated\n",
    "if cfg.get('plugin_dir', None):\n",
    "    import importlib\n",
    "    plugin_dir = cfg.plugin_dir\n",
    "    _module_dir = os.path.dirname(plugin_dir)\n",
    "    _module_dir = _module_dir.split('/')\n",
    "    _module_path = _module_dir[0]\n",
    "\n",
    "    for m in _module_dir[1:]:\n",
    "        _module_path = _module_path + '.' + m\n",
    "    plg_lib = importlib.import_module(_module_path)\n",
    "\n",
    "# set cudnn_benchmark\n",
    "if cfg.get('cudnn_benchmark', False):\n",
    "    torch.backends.cudnn.benchmark = True\n",
    "\n",
    "# work_dir is determined in this priority: CLI > segment in file > filename\n",
    "if args.work_dir is not None:\n",
    "    # update configs according to CLI args if args.work_dir is not None\n",
    "    cfg.work_dir = args.work_dir\n",
    "elif cfg.get('work_dir', None) is None:\n",
    "    # use config filename as default work_dir if cfg.work_dir is None\n",
    "    cfg.work_dir = osp.join('./work_dirs',\n",
    "                            osp.splitext(osp.basename(args.config))[0])\n",
    "if args.resume_from is not None:\n",
    "    cfg.resume_from = args.resume_from\n",
    "\n",
    "if args.auto_resume:\n",
    "    cfg.auto_resume = args.auto_resume\n",
    "    warnings.warn('`--auto-resume` is only supported when mmdet'\n",
    "                    'version >= 2.20.0 for 3D detection model or'\n",
    "                    'mmsegmentation verision >= 0.21.0 for 3D'\n",
    "                    'segmentation model')\n",
    "\n",
    "if args.gpus is not None:\n",
    "    cfg.gpu_ids = range(1)\n",
    "    warnings.warn('`--gpus` is deprecated because we only support '\n",
    "                    'single GPU mode in non-distributed training. '\n",
    "                    'Use `gpus=1` now.')\n",
    "if args.gpu_ids is not None:\n",
    "    cfg.gpu_ids = args.gpu_ids[0:1]\n",
    "    warnings.warn('`--gpu-ids` is deprecated, please use `--gpu-id`. '\n",
    "                    'Because we only support single GPU mode in '\n",
    "                    'non-distributed training. Use the first GPU '\n",
    "                    'in `gpu_ids` now.')\n",
    "if args.gpus is None and args.gpu_ids is None:\n",
    "    cfg.gpu_ids = [args.gpu_id]\n",
    "\n",
    "if args.autoscale_lr:\n",
    "    # apply the linear scaling rule (https://arxiv.org/abs/1706.02677)\n",
    "    cfg.optimizer['lr'] = cfg.optimizer['lr'] * len(cfg.gpu_ids) / 8\n",
    "\n",
    "# init distributed env first, since logger depends on the dist info.\n",
    "if args.launcher == 'none':\n",
    "    distributed = False\n",
    "else:\n",
    "    distributed = True\n",
    "    init_dist(args.launcher, **cfg.dist_params)\n",
    "    # re-set gpu_ids with distributed training mode\n",
    "    _, world_size = get_dist_info()\n",
    "    cfg.gpu_ids = range(world_size)"
   ]
  }
 ],
 "metadata": {
  "kernelspec": {
   "display_name": "MV2Denv",
   "language": "python",
   "name": "python3"
  },
  "language_info": {
   "codemirror_mode": {
    "name": "ipython",
    "version": 3
   },
   "file_extension": ".py",
   "mimetype": "text/x-python",
   "name": "python",
   "nbconvert_exporter": "python",
   "pygments_lexer": "ipython3",
   "version": "3.8.20"
  }
 },
 "nbformat": 4,
 "nbformat_minor": 2
}
